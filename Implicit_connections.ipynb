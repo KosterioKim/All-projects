{
 "cells": [
  {
   "cell_type": "code",
   "execution_count": 1,
   "id": "initial_id",
   "metadata": {
    "collapsed": true,
    "ExecuteTime": {
     "end_time": "2024-11-14T08:19:57.041016400Z",
     "start_time": "2024-11-14T08:19:57.037951Z"
    }
   },
   "outputs": [
    {
     "name": "stdout",
     "output_type": "stream",
     "text": [
      "13\n"
     ]
    }
   ],
   "source": [
    "print('13')"
   ]
  },
  {
   "cell_type": "code",
   "outputs": [],
   "source": [
    "gfhhgf"
   ],
   "metadata": {
    "collapsed": false
   },
   "id": "405752f5e908cc0c"
  },
  {
   "cell_type": "code",
   "outputs": [],
   "source": [
    "fghfg"
   ],
   "metadata": {
    "collapsed": false
   },
   "id": "247f6cb5b412bc1a"
  },
  {
   "cell_type": "code",
   "outputs": [],
   "source": [
    "fghfg"
   ],
   "metadata": {
    "collapsed": false
   },
   "id": "945b7bb26a687e17"
  },
  {
   "cell_type": "code",
   "outputs": [],
   "source": [
    "gfh"
   ],
   "metadata": {
    "collapsed": false
   },
   "id": "f0500d2754114745"
  }
 ],
 "metadata": {
  "kernelspec": {
   "display_name": "Python 3",
   "language": "python",
   "name": "python3"
  },
  "language_info": {
   "codemirror_mode": {
    "name": "ipython",
    "version": 2
   },
   "file_extension": ".py",
   "mimetype": "text/x-python",
   "name": "python",
   "nbconvert_exporter": "python",
   "pygments_lexer": "ipython2",
   "version": "2.7.6"
  }
 },
 "nbformat": 4,
 "nbformat_minor": 5
}
